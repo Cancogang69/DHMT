{
 "cells": [
  {
   "cell_type": "markdown",
   "metadata": {},
   "source": [
    "# Import library"
   ]
  },
  {
   "cell_type": "code",
   "execution_count": 2,
   "metadata": {},
   "outputs": [],
   "source": [
    "import cv2"
   ]
  },
  {
   "cell_type": "markdown",
   "metadata": {},
   "source": [
    "# Load face model"
   ]
  },
  {
   "cell_type": "code",
   "execution_count": 3,
   "metadata": {},
   "outputs": [],
   "source": [
    "face_model = cv2.CascadeClassifier(\"haarcascade_frontalface_default.xml\")\n",
    "blue_value = [255, 0, 0]"
   ]
  },
  {
   "cell_type": "markdown",
   "metadata": {},
   "source": [
    "# Face detect in image"
   ]
  },
  {
   "cell_type": "code",
   "execution_count": 5,
   "metadata": {},
   "outputs": [],
   "source": [
    "image_path = \"tue.jpg\"\n",
    "\n",
    "img = cv2.imread(image_path)\n",
    "face_cor = face_model.detectMultiScale(img)\n",
    "\n",
    "if len(face_cor) != 0:\n",
    "  x1, y1, w, h = face_cor[0]\n",
    "  x2, y2 = x1 + w, y1 + h\n",
    "  img = cv2.rectangle(img, (x1, y1), (x2, y2), blue_value, 3)\n",
    "\n",
    "cv2.imshow(\"Face Detection\", img)\n",
    "if cv2.waitKey() & 0XFF==ord('q'):\n",
    "  cv2.destroyAllWindows()"
   ]
  },
  {
   "cell_type": "markdown",
   "metadata": {},
   "source": [
    "# Face detect in video"
   ]
  },
  {
   "cell_type": "code",
   "execution_count": 6,
   "metadata": {},
   "outputs": [],
   "source": [
    "# video path or 0 if you want to use your webcam\n",
    "video_path = 0              \n",
    "cap = cv2.VideoCapture(video_path)\n",
    "\n",
    "while True:\n",
    "  ret, frame = cap.read()\n",
    "  if not ret:\n",
    "    break\n",
    "\n",
    "  face_cor = face_model.detectMultiScale(frame)\n",
    "\n",
    "  if len(face_cor) != 0:\n",
    "    x1, y1, w, h = face_cor[0]\n",
    "    x2, y2 = x1 + w, y1 + h\n",
    "    frame = cv2.rectangle(frame, (x1, y1), (x2, y2), blue_value, 3)\n",
    "\n",
    "  cv2.imshow(\"Face Detection\", frame)\n",
    "\n",
    "  if cv2.waitKey(1) & 0XFF==ord('q'):\n",
    "    break\n",
    "\n",
    "cap.release()\n",
    "cv2.destroyAllWindows()"
   ]
  }
 ],
 "metadata": {
  "kernelspec": {
   "display_name": "Python 3",
   "language": "python",
   "name": "python3"
  },
  "language_info": {
   "codemirror_mode": {
    "name": "ipython",
    "version": 3
   },
   "file_extension": ".py",
   "mimetype": "text/x-python",
   "name": "python",
   "nbconvert_exporter": "python",
   "pygments_lexer": "ipython3",
   "version": "3.8.19"
  }
 },
 "nbformat": 4,
 "nbformat_minor": 2
}
