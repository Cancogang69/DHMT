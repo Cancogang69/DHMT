{
 "cells": [
  {
   "cell_type": "code",
   "execution_count": 1,
   "metadata": {},
   "outputs": [],
   "source": [
    "import numpy as np\n",
    "import cv2"
   ]
  },
  {
   "cell_type": "markdown",
   "metadata": {},
   "source": [
    "# Face, eye, mouth and nose detection in image"
   ]
  },
  {
   "cell_type": "code",
   "execution_count": 2,
   "metadata": {},
   "outputs": [],
   "source": [
    "face_classifier = cv2.CascadeClassifier('./haarcascade/frontalface.xml')\n",
    "eye_classifier = cv2.CascadeClassifier('./haarcascade/eye.xml')\n",
    "nose_classifier = cv2.CascadeClassifier(\"./haarcascade/nose.xml\")\n",
    "mouth_classifier = cv2.CascadeClassifier(\"./haarcascade/mouth.xml\")"
   ]
  },
  {
   "cell_type": "code",
   "execution_count": 3,
   "metadata": {},
   "outputs": [],
   "source": [
    "text_size = 0.6\n",
    "img = cv2.imread('./images/face2.jpg')\n",
    "gray = cv2.cvtColor(img, cv2.COLOR_BGR2GRAY)\n",
    "faces = face_classifier.detectMultiScale(gray, 1.05, 3)\n",
    "\n",
    "if faces is None:\n",
    "  print(\"No Face Found\")\n",
    "\n",
    "for (x,y,w,h) in faces:\n",
    "  cv2.rectangle(img, (x,y), (x+w,y+h), (127,0,255), 2)\n",
    "  roi_gray = gray[y:y+h, x:x+w]\n",
    "  roi_color = img[y:y+h, x:x+w]\n",
    "\n",
    "  eyes = eye_classifier.detectMultiScale(roi_gray)\n",
    "  for (ex,ey,ew,eh) in eyes:\n",
    "    cv2.rectangle(roi_color, (ex,ey), (ex+ew,ey+eh), (255,255,0), 2)\n",
    "    cv2.putText(roi_color, 'eye', (ex, ey-10), cv2.FONT_HERSHEY_SIMPLEX, text_size, (255,255,0), 2)\n",
    "  \n",
    "  noses = nose_classifier.detectMultiScale(roi_gray)\n",
    "  for (ex,ey,ew,eh) in noses:\n",
    "    cv2.rectangle(roi_color, (ex,ey), (ex+ew,ey+eh), (255,0,0), 2)\n",
    "    cv2.putText(roi_color, 'noses', (ex, ey-10), cv2.FONT_HERSHEY_SIMPLEX, text_size, (255,0,0), 2)\n",
    "\n",
    "  mouths = mouth_classifier.detectMultiScale(roi_gray)\n",
    "  for (ex,ey,ew,eh) in mouths:\n",
    "    cv2.rectangle(roi_color, (ex,ey), (ex+ew,ey+eh), (255,0,255), 2)\n",
    "    cv2.putText(roi_color, 'mouth', (ex, ey-10), cv2.FONT_HERSHEY_SIMPLEX, text_size, (255,0,255), 2)\n",
    "\n",
    "\n",
    "cv2.imshow('img', img)\n",
    "cv2.waitKey(0)\n",
    "cv2.destroyAllWindows()"
   ]
  },
  {
   "cell_type": "markdown",
   "metadata": {},
   "source": [
    "# Pedestrian detection"
   ]
  },
  {
   "cell_type": "code",
   "execution_count": 4,
   "metadata": {},
   "outputs": [],
   "source": [
    "pedes_classifier = cv2.CascadeClassifier(\"./haarcascade/fullbody.xml\")\n",
    "text_size = 0.6"
   ]
  },
  {
   "cell_type": "markdown",
   "metadata": {},
   "source": [
    "## In image"
   ]
  },
  {
   "cell_type": "code",
   "execution_count": 5,
   "metadata": {},
   "outputs": [],
   "source": [
    "img = cv2.imread('./images/pedes3.jpg')\n",
    "gray = cv2.cvtColor(img, cv2.COLOR_BGR2GRAY)\n",
    "cars = pedes_classifier.detectMultiScale(gray, 1.1, 3)\n",
    "\n",
    "for (x,y,w,h) in cars:\n",
    "  cv2.rectangle(img, (x,y), (x+w,y+h), (127,0,255), 2)\n",
    "  cv2.putText(img, 'pedes', (x, y-10), cv2.FONT_HERSHEY_SIMPLEX, text_size, (127,0,255), 2)\n",
    "\n",
    "img_resize = cv2.resize(img, (720, 540), interpolation=cv2.INTER_LINEAR)\n",
    "win_name = \"result\"\n",
    "cv2.namedWindow(win_name)        \n",
    "cv2.moveWindow(win_name, 40,30)  \n",
    "cv2.imshow(win_name, img_resize)\n",
    "cv2.waitKey(0)\n",
    "cv2.destroyAllWindows()"
   ]
  },
  {
   "cell_type": "markdown",
   "metadata": {},
   "source": [
    "## In video"
   ]
  },
  {
   "cell_type": "code",
   "execution_count": 6,
   "metadata": {},
   "outputs": [],
   "source": [
    "video = cv2.VideoCapture(\"./videos/crossing_road.mp4\")\n",
    "\n",
    "while video.isOpened():\n",
    "  ret, frame = video.read()\n",
    "  if not ret:\n",
    "    break\n",
    "\n",
    "  gray = cv2.cvtColor(frame, cv2.COLOR_BGR2GRAY)\n",
    "  pedes = pedes_classifier.detectMultiScale(gray, 1.1, 3)\n",
    "\n",
    "  for (x,y,w,h) in pedes:\n",
    "    cv2.rectangle(frame, (x,y), (x+w,y+h), (127,0,255), 2)\n",
    "    cv2.putText(frame, 'pedes', (x, y-10), cv2.FONT_HERSHEY_SIMPLEX, text_size, (127,0,255), 2)\n",
    "\n",
    "  frame_resize = cv2.resize(frame, (720, 540), interpolation=cv2.INTER_LINEAR)\n",
    "  win_name = \"result\"\n",
    "  cv2.namedWindow(win_name)        \n",
    "  cv2.moveWindow(win_name, 40,30)  \n",
    "  cv2.imshow(win_name, frame_resize)\n",
    "  if cv2.waitKey(1) == 13: \n",
    "    break\n",
    "  \n",
    "video.release()\n",
    "cv2.destroyAllWindows()"
   ]
  },
  {
   "cell_type": "markdown",
   "metadata": {},
   "source": [
    "# Car detection"
   ]
  },
  {
   "cell_type": "code",
   "execution_count": 7,
   "metadata": {},
   "outputs": [],
   "source": [
    "car_classifier = cv2.CascadeClassifier('./haarcascade/car.xml')\n",
    "text_size = 1"
   ]
  },
  {
   "cell_type": "code",
   "execution_count": 8,
   "metadata": {},
   "outputs": [],
   "source": [
    "img = cv2.imread('./images/car3.jpg')\n",
    "gray = cv2.cvtColor(img, cv2.COLOR_BGR2GRAY)\n",
    "cars = car_classifier.detectMultiScale(gray, 1.1, 2)\n",
    "\n",
    "for (x,y,w,h) in cars:\n",
    "  cv2.rectangle(img, (x,y), (x+w,y+h), (127,0,255), 2)\n",
    "  cv2.putText(img, 'car', (x, y-10), cv2.FONT_HERSHEY_SIMPLEX, text_size, (127,0,255), 2)\n",
    "\n",
    "img_resize = cv2.resize(img, (720, 540), interpolation=cv2.INTER_LINEAR)\n",
    "win_name = \"result\"\n",
    "cv2.namedWindow(win_name)        \n",
    "cv2.moveWindow(win_name, 40,30)  \n",
    "cv2.imshow(win_name, img_resize)\n",
    "cv2.waitKey(0)\n",
    "cv2.destroyAllWindows()"
   ]
  }
 ],
 "metadata": {
  "kernelspec": {
   "display_name": "Python 3",
   "language": "python",
   "name": "python3"
  },
  "language_info": {
   "codemirror_mode": {
    "name": "ipython",
    "version": 3
   },
   "file_extension": ".py",
   "mimetype": "text/x-python",
   "name": "python",
   "nbconvert_exporter": "python",
   "pygments_lexer": "ipython3",
   "version": "3.11.8"
  }
 },
 "nbformat": 4,
 "nbformat_minor": 2
}
